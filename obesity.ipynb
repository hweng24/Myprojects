{
 "cells": [
  {
   "cell_type": "code",
   "execution_count": 1,
   "metadata": {},
   "outputs": [],
   "source": [
    "import pandas as pd\n",
    "import requests\n",
    "import os\n",
    "from io import BytesIO\n",
    "from zipfile import ZipFile\n",
    "import numpy as np\n",
    "from sklearn.impute import SimpleImputer\n",
    "from sklearn.linear_model import LogisticRegression\n",
    "from sklearn.decomposition import PCA\n",
    "from sklearn.pipeline import Pipeline\n",
    "from sklearn.preprocessing import StandardScaler, OneHotEncoder\n",
    "from sklearn.compose import make_column_transformer\n",
    "from sklearn.metrics import confusion_matrix, precision_score, recall_score\n",
    "from sklearn.model_selection import train_test_split\n",
    "import matplotlib.pyplot as plt"
   ]
  },
  {
   "cell_type": "code",
   "execution_count": 2,
   "metadata": {},
   "outputs": [],
   "source": [
    "plt.rcParams[\"font.size\"] = 16\n",
    "plt.rcParams[\"legend.frameon\"] = False\n",
    "plt.rcParams[\"legend.loc\"] = \"upper right\"\n",
    "plt.rcParams['axes.spines.right'] = False\n",
    "plt.rcParams['axes.spines.top'] = False"
   ]
  },
  {
   "cell_type": "code",
   "execution_count": 3,
   "metadata": {},
   "outputs": [
    {
     "name": "stdout",
     "output_type": "stream",
     "text": [
      "(2111, 17)\n"
     ]
    },
    {
     "data": {
      "text/html": [
       "<div>\n",
       "<style scoped>\n",
       "    .dataframe tbody tr th:only-of-type {\n",
       "        vertical-align: middle;\n",
       "    }\n",
       "\n",
       "    .dataframe tbody tr th {\n",
       "        vertical-align: top;\n",
       "    }\n",
       "\n",
       "    .dataframe thead th {\n",
       "        text-align: right;\n",
       "    }\n",
       "</style>\n",
       "<table border=\"1\" class=\"dataframe\">\n",
       "  <thead>\n",
       "    <tr style=\"text-align: right;\">\n",
       "      <th></th>\n",
       "      <th>Gender</th>\n",
       "      <th>Age</th>\n",
       "      <th>Height</th>\n",
       "      <th>Weight</th>\n",
       "      <th>family_history_with_overweight</th>\n",
       "      <th>FAVC</th>\n",
       "      <th>FCVC</th>\n",
       "      <th>NCP</th>\n",
       "      <th>CAEC</th>\n",
       "      <th>SMOKE</th>\n",
       "      <th>CH2O</th>\n",
       "      <th>SCC</th>\n",
       "      <th>FAF</th>\n",
       "      <th>TUE</th>\n",
       "      <th>CALC</th>\n",
       "      <th>MTRANS</th>\n",
       "      <th>NObeyesdad</th>\n",
       "    </tr>\n",
       "  </thead>\n",
       "  <tbody>\n",
       "    <tr>\n",
       "      <th>0</th>\n",
       "      <td>Female</td>\n",
       "      <td>21.0</td>\n",
       "      <td>1.62</td>\n",
       "      <td>64.0</td>\n",
       "      <td>yes</td>\n",
       "      <td>no</td>\n",
       "      <td>2.0</td>\n",
       "      <td>3.0</td>\n",
       "      <td>Sometimes</td>\n",
       "      <td>no</td>\n",
       "      <td>2.0</td>\n",
       "      <td>no</td>\n",
       "      <td>0.0</td>\n",
       "      <td>1.0</td>\n",
       "      <td>no</td>\n",
       "      <td>Public_Transportation</td>\n",
       "      <td>Normal_Weight</td>\n",
       "    </tr>\n",
       "    <tr>\n",
       "      <th>1</th>\n",
       "      <td>Female</td>\n",
       "      <td>21.0</td>\n",
       "      <td>1.52</td>\n",
       "      <td>56.0</td>\n",
       "      <td>yes</td>\n",
       "      <td>no</td>\n",
       "      <td>3.0</td>\n",
       "      <td>3.0</td>\n",
       "      <td>Sometimes</td>\n",
       "      <td>yes</td>\n",
       "      <td>3.0</td>\n",
       "      <td>yes</td>\n",
       "      <td>3.0</td>\n",
       "      <td>0.0</td>\n",
       "      <td>Sometimes</td>\n",
       "      <td>Public_Transportation</td>\n",
       "      <td>Normal_Weight</td>\n",
       "    </tr>\n",
       "    <tr>\n",
       "      <th>2</th>\n",
       "      <td>Male</td>\n",
       "      <td>23.0</td>\n",
       "      <td>1.80</td>\n",
       "      <td>77.0</td>\n",
       "      <td>yes</td>\n",
       "      <td>no</td>\n",
       "      <td>2.0</td>\n",
       "      <td>3.0</td>\n",
       "      <td>Sometimes</td>\n",
       "      <td>no</td>\n",
       "      <td>2.0</td>\n",
       "      <td>no</td>\n",
       "      <td>2.0</td>\n",
       "      <td>1.0</td>\n",
       "      <td>Frequently</td>\n",
       "      <td>Public_Transportation</td>\n",
       "      <td>Normal_Weight</td>\n",
       "    </tr>\n",
       "    <tr>\n",
       "      <th>3</th>\n",
       "      <td>Male</td>\n",
       "      <td>27.0</td>\n",
       "      <td>1.80</td>\n",
       "      <td>87.0</td>\n",
       "      <td>no</td>\n",
       "      <td>no</td>\n",
       "      <td>3.0</td>\n",
       "      <td>3.0</td>\n",
       "      <td>Sometimes</td>\n",
       "      <td>no</td>\n",
       "      <td>2.0</td>\n",
       "      <td>no</td>\n",
       "      <td>2.0</td>\n",
       "      <td>0.0</td>\n",
       "      <td>Frequently</td>\n",
       "      <td>Walking</td>\n",
       "      <td>Overweight_Level_I</td>\n",
       "    </tr>\n",
       "    <tr>\n",
       "      <th>4</th>\n",
       "      <td>Male</td>\n",
       "      <td>22.0</td>\n",
       "      <td>1.78</td>\n",
       "      <td>89.8</td>\n",
       "      <td>no</td>\n",
       "      <td>no</td>\n",
       "      <td>2.0</td>\n",
       "      <td>1.0</td>\n",
       "      <td>Sometimes</td>\n",
       "      <td>no</td>\n",
       "      <td>2.0</td>\n",
       "      <td>no</td>\n",
       "      <td>0.0</td>\n",
       "      <td>0.0</td>\n",
       "      <td>Sometimes</td>\n",
       "      <td>Public_Transportation</td>\n",
       "      <td>Overweight_Level_II</td>\n",
       "    </tr>\n",
       "  </tbody>\n",
       "</table>\n",
       "</div>"
      ],
      "text/plain": [
       "   Gender   Age  Height  Weight family_history_with_overweight FAVC  FCVC  \\\n",
       "0  Female  21.0    1.62    64.0                            yes   no   2.0   \n",
       "1  Female  21.0    1.52    56.0                            yes   no   3.0   \n",
       "2    Male  23.0    1.80    77.0                            yes   no   2.0   \n",
       "3    Male  27.0    1.80    87.0                             no   no   3.0   \n",
       "4    Male  22.0    1.78    89.8                             no   no   2.0   \n",
       "\n",
       "   NCP       CAEC SMOKE  CH2O  SCC  FAF  TUE        CALC  \\\n",
       "0  3.0  Sometimes    no   2.0   no  0.0  1.0          no   \n",
       "1  3.0  Sometimes   yes   3.0  yes  3.0  0.0   Sometimes   \n",
       "2  3.0  Sometimes    no   2.0   no  2.0  1.0  Frequently   \n",
       "3  3.0  Sometimes    no   2.0   no  2.0  0.0  Frequently   \n",
       "4  1.0  Sometimes    no   2.0   no  0.0  0.0   Sometimes   \n",
       "\n",
       "                  MTRANS           NObeyesdad  \n",
       "0  Public_Transportation        Normal_Weight  \n",
       "1  Public_Transportation        Normal_Weight  \n",
       "2  Public_Transportation        Normal_Weight  \n",
       "3                Walking   Overweight_Level_I  \n",
       "4  Public_Transportation  Overweight_Level_II  "
      ]
     },
     "execution_count": 3,
     "metadata": {},
     "output_type": "execute_result"
    }
   ],
   "source": [
    "# download data from uci ml db\n",
    "url = \"https://archive.ics.uci.edu/ml/machine-learning-databases/00544/ObesityDataSet_raw_and_data_sinthetic (2).zip\"\n",
    "\n",
    "if not os.path.exists(\"obesity.csv\"):\n",
    "    print(\"DOWNLOAD\")\n",
    "    resp = requests.get(url).content\n",
    "    zf = ZipFile(BytesIO(resp))\n",
    "    for name in zipfile.namelist():\n",
    "        if \"csv\" in name:\n",
    "            print(name)\n",
    "            df = pd.read_csv(zf.open(name))\n",
    "            df.to_csv(\"obesity.csv\", index=False)\n",
    "\n",
    "df = pd.read_csv(\"obesity.csv\")\n",
    "print(df.shape)\n",
    "df.head()"
   ]
  },
  {
   "cell_type": "code",
   "execution_count": 4,
   "metadata": {},
   "outputs": [
    {
     "data": {
      "text/plain": [
       "0"
      ]
     },
     "execution_count": 4,
     "metadata": {},
     "output_type": "execute_result"
    }
   ],
   "source": [
    "df.isna().values.sum() # no missing value"
   ]
  },
  {
   "cell_type": "code",
   "execution_count": 5,
   "metadata": {},
   "outputs": [],
   "source": [
    "data1 = pd.DataFrame(df.groupby([\"Gender\",\"NObeyesdad\"]).size()).reset_index()\n",
    "data1.rename(columns={0:'Counts'}, inplace=True)\n",
    "ordered = ['Insufficient_Weight', 'Normal_Weight','Overweight_Level_I','Overweight_Level_II','Obesity_Type_I','Obesity_Type_II','Obesity_Type_III']\n",
    "f = data1[data1[\"Gender\"] == \"Female\"].set_index(\"NObeyesdad\").reindex(ordered)\n",
    "m = data1[data1[\"Gender\"] == \"Male\"].set_index(\"NObeyesdad\").reindex(ordered)\n",
    "types = list(f.index)\n",
    "c_f = list(f[\"Counts\"])\n",
    "c_m = list(m[\"Counts\"])"
   ]
  },
  {
   "cell_type": "code",
   "execution_count": 6,
   "metadata": {},
   "outputs": [
    {
     "data": {
      "image/png": "[encoded data removed]",
      "text/plain": [
       "<Figure size 432x288 with 1 Axes>"
      ]
     },
     "metadata": {
      "needs_background": "light"
     },
     "output_type": "display_data"
    }
   ],
   "source": [
    "#Figure 1: descriptive stats\n",
    "bar_width = 0.35  \n",
    "index_f = np.arange(len(types))  \n",
    "index_m = index_f + bar_width  \n",
    "\n",
    "plt.bar(index_f, height=c_f, width=bar_width, label='female')\n",
    "plt.bar(index_m, height=c_m, width=bar_width, label='male')\n",
    "\n",
    "label = ['Underweight', 'Normal','Overweight I','Overweight II','Obesity I','Obesity II','Obesity III']\n",
    "plt.legend()  \n",
    "plt.xticks(index_f + bar_width/2, label, rotation=90)\n",
    "plt.xlabel(\"Obesity Level Category\")\n",
    "plt.ylabel(\"Number of People\")  \n",
    "plt.title(\"Figure 1: Comparison of the Number of Poeple by Obesity Level\", pad = 20)  \n",
    "plt.legend(bbox_to_anchor=(1.4, 1), loc='upper right', ncol=1)\n",
    "plt.show()"
   ]
  },
  {
   "cell_type": "code",
   "execution_count": 23,
   "metadata": {},
   "outputs": [
    {
     "data": {
      "text/html": [
       "<div>\n",
       "<style scoped>\n",
       "    .dataframe tbody tr th:only-of-type {\n",
       "        vertical-align: middle;\n",
       "    }\n",
       "\n",
       "    .dataframe tbody tr th {\n",
       "        vertical-align: top;\n",
       "    }\n",
       "\n",
       "    .dataframe thead th {\n",
       "        text-align: right;\n",
       "    }\n",
       "</style>\n",
       "<table border=\"1\" class=\"dataframe\">\n",
       "  <thead>\n",
       "    <tr style=\"text-align: right;\">\n",
       "      <th></th>\n",
       "      <th>Gender</th>\n",
       "      <th>NObeyesdad</th>\n",
       "      <th>Counts</th>\n",
       "    </tr>\n",
       "  </thead>\n",
       "  <tbody>\n",
       "    <tr>\n",
       "      <th>0</th>\n",
       "      <td>Female</td>\n",
       "      <td>Insufficient_Weight</td>\n",
       "      <td>173</td>\n",
       "    </tr>\n",
       "    <tr>\n",
       "      <th>1</th>\n",
       "      <td>Female</td>\n",
       "      <td>Normal_Weight</td>\n",
       "      <td>141</td>\n",
       "    </tr>\n",
       "    <tr>\n",
       "      <th>2</th>\n",
       "      <td>Female</td>\n",
       "      <td>Obesity_Type_I</td>\n",
       "      <td>156</td>\n",
       "    </tr>\n",
       "    <tr>\n",
       "      <th>3</th>\n",
       "      <td>Female</td>\n",
       "      <td>Obesity_Type_II</td>\n",
       "      <td>2</td>\n",
       "    </tr>\n",
       "    <tr>\n",
       "      <th>4</th>\n",
       "      <td>Female</td>\n",
       "      <td>Obesity_Type_III</td>\n",
       "      <td>323</td>\n",
       "    </tr>\n",
       "    <tr>\n",
       "      <th>5</th>\n",
       "      <td>Female</td>\n",
       "      <td>Overweight_Level_I</td>\n",
       "      <td>145</td>\n",
       "    </tr>\n",
       "    <tr>\n",
       "      <th>6</th>\n",
       "      <td>Female</td>\n",
       "      <td>Overweight_Level_II</td>\n",
       "      <td>103</td>\n",
       "    </tr>\n",
       "    <tr>\n",
       "      <th>7</th>\n",
       "      <td>Male</td>\n",
       "      <td>Insufficient_Weight</td>\n",
       "      <td>99</td>\n",
       "    </tr>\n",
       "    <tr>\n",
       "      <th>8</th>\n",
       "      <td>Male</td>\n",
       "      <td>Normal_Weight</td>\n",
       "      <td>146</td>\n",
       "    </tr>\n",
       "    <tr>\n",
       "      <th>9</th>\n",
       "      <td>Male</td>\n",
       "      <td>Obesity_Type_I</td>\n",
       "      <td>195</td>\n",
       "    </tr>\n",
       "    <tr>\n",
       "      <th>10</th>\n",
       "      <td>Male</td>\n",
       "      <td>Obesity_Type_II</td>\n",
       "      <td>295</td>\n",
       "    </tr>\n",
       "    <tr>\n",
       "      <th>11</th>\n",
       "      <td>Male</td>\n",
       "      <td>Obesity_Type_III</td>\n",
       "      <td>1</td>\n",
       "    </tr>\n",
       "    <tr>\n",
       "      <th>12</th>\n",
       "      <td>Male</td>\n",
       "      <td>Overweight_Level_I</td>\n",
       "      <td>145</td>\n",
       "    </tr>\n",
       "    <tr>\n",
       "      <th>13</th>\n",
       "      <td>Male</td>\n",
       "      <td>Overweight_Level_II</td>\n",
       "      <td>187</td>\n",
       "    </tr>\n",
       "  </tbody>\n",
       "</table>\n",
       "</div>"
      ],
      "text/plain": [
       "    Gender           NObeyesdad  Counts\n",
       "0   Female  Insufficient_Weight     173\n",
       "1   Female        Normal_Weight     141\n",
       "2   Female       Obesity_Type_I     156\n",
       "3   Female      Obesity_Type_II       2\n",
       "4   Female     Obesity_Type_III     323\n",
       "5   Female   Overweight_Level_I     145\n",
       "6   Female  Overweight_Level_II     103\n",
       "7     Male  Insufficient_Weight      99\n",
       "8     Male        Normal_Weight     146\n",
       "9     Male       Obesity_Type_I     195\n",
       "10    Male      Obesity_Type_II     295\n",
       "11    Male     Obesity_Type_III       1\n",
       "12    Male   Overweight_Level_I     145\n",
       "13    Male  Overweight_Level_II     187"
      ]
     },
     "execution_count": 23,
     "metadata": {},
     "output_type": "execute_result"
    }
   ],
   "source": [
    "data1"
   ]
  },
  {
   "cell_type": "code",
   "execution_count": 24,
   "metadata": {},
   "outputs": [
    {
     "data": {
      "text/plain": [
       "Male      1068\n",
       "Female    1043\n",
       "Name: Gender, dtype: int64"
      ]
     },
     "execution_count": 24,
     "metadata": {},
     "output_type": "execute_result"
    }
   ],
   "source": [
    "df[\"Gender\"].value_counts()"
   ]
  },
  {
   "cell_type": "code",
   "execution_count": 7,
   "metadata": {},
   "outputs": [
    {
     "data": {
      "text/plain": [
       "Index(['Age', 'Height', 'Weight', 'FCVC', 'NCP', 'CH2O', 'FAF', 'TUE',\n",
       "       'NObeyesdad', 'Gender_Male', 'family_history_with_overweight_yes',\n",
       "       'FAVC_yes', 'CAEC_Frequently', 'CAEC_Sometimes', 'CAEC_no', 'SMOKE_yes',\n",
       "       'SCC_yes', 'CALC_Frequently', 'CALC_Sometimes', 'CALC_no',\n",
       "       'MTRANS_Bike', 'MTRANS_Motorbike', 'MTRANS_Public_Transportation',\n",
       "       'MTRANS_Walking'],\n",
       "      dtype='object')"
      ]
     },
     "execution_count": 7,
     "metadata": {},
     "output_type": "execute_result"
    }
   ],
   "source": [
    "encoded = pd.get_dummies(df[['Gender', 'family_history_with_overweight','FAVC', 'CAEC', 'SMOKE', 'SCC', 'CALC', 'MTRANS']], drop_first=True)\n",
    "data2 = df.drop(['Gender', 'family_history_with_overweight','FAVC', 'CAEC', 'SMOKE', 'SCC', 'CALC', 'MTRANS'], 1)\n",
    "data2 = data2.join(encoded)\n",
    "data2.columns"
   ]
  },
  {
   "cell_type": "code",
   "execution_count": 8,
   "metadata": {},
   "outputs": [
    {
     "data": {
      "text/plain": [
       "False    1139\n",
       "True      972\n",
       "Name: obesity, dtype: int64"
      ]
     },
     "execution_count": 8,
     "metadata": {},
     "output_type": "execute_result"
    }
   ],
   "source": [
    "data2[\"obesity\"] = data2['NObeyesdad'].map({'Obesity_Type_I': True, 'Obesity_Type_II': True, 'Obesity_Type_III': True, \"Insufficient_Weight\": False, \"Normal_Weight\": False, \"Overweight_Level_I\": False, \"Overweight_Level_II\": False})\n",
    "data2[\"obesity\"].value_counts()"
   ]
  },
  {
   "cell_type": "code",
   "execution_count": 9,
   "metadata": {},
   "outputs": [
    {
     "data": {
      "text/plain": [
       "Obesity_Type_I         351\n",
       "Obesity_Type_III       324\n",
       "Obesity_Type_II        297\n",
       "Overweight_Level_I     290\n",
       "Overweight_Level_II    290\n",
       "Normal_Weight          287\n",
       "Insufficient_Weight    272\n",
       "Name: NObeyesdad, dtype: int64"
      ]
     },
     "execution_count": 9,
     "metadata": {},
     "output_type": "execute_result"
    }
   ],
   "source": [
    "data2['NObeyesdad'].value_counts() "
   ]
  },
  {
   "cell_type": "code",
   "execution_count": 10,
   "metadata": {},
   "outputs": [],
   "source": [
    "xcols = ['Gender', 'Age', 'family_history_with_overweight',\n",
    "       'FAVC', 'FCVC', 'NCP', 'CAEC', 'SMOKE', 'CH2O', 'SCC', 'FAF', 'TUE',\n",
    "       'CALC', 'MTRANS']\n",
    "ycol = 'obesity'"
   ]
  },
  {
   "cell_type": "code",
   "execution_count": 25,
   "metadata": {},
   "outputs": [
    {
     "name": "stdout",
     "output_type": "stream",
     "text": [
      "1     0.901002\n",
      "2     0.919789\n",
      "3     0.933253\n",
      "4     0.944911\n",
      "5     0.954869\n",
      "6     0.963621\n",
      "7     0.970783\n",
      "8     0.977115\n",
      "9     0.982022\n",
      "10    0.986603\n",
      "11    0.990431\n",
      "12    0.993900\n",
      "13    0.995649\n",
      "14    0.996707\n",
      "15    0.997615\n",
      "16    0.998457\n",
      "17    0.999241\n",
      "18    0.999745\n",
      "19    0.999903\n",
      "20    0.999986\n",
      "21    1.000000\n",
      "22    1.000000\n",
      "23    1.000000\n",
      "24    1.000000\n",
      "25    1.000000\n",
      "26    1.000000\n",
      "27    1.000000\n",
      "28    1.000000\n",
      "29    1.000000\n",
      "dtype: float64\n",
      "1     0.124172\n",
      "2     0.216627\n",
      "3     0.291179\n",
      "4     0.362876\n",
      "5     0.429924\n",
      "6     0.491743\n",
      "7     0.547227\n",
      "8     0.594185\n",
      "9     0.637749\n",
      "10    0.678634\n",
      "11    0.717664\n",
      "12    0.754799\n",
      "13    0.790424\n",
      "14    0.824296\n",
      "15    0.857121\n",
      "16    0.887095\n",
      "17    0.915294\n",
      "18    0.940394\n",
      "19    0.964388\n",
      "20    0.986192\n",
      "21    1.000000\n",
      "22    1.000000\n",
      "23    1.000000\n",
      "24    1.000000\n",
      "25    1.000000\n",
      "26    1.000000\n",
      "27    1.000000\n",
      "28    1.000000\n",
      "29    1.000000\n",
      "dtype: float64\n"
     ]
    },
    {
     "data": {
      "text/plain": [
       "Text(0.5, 1.0, 'Figure 2: Principal Components of Obesity')"
      ]
     },
     "execution_count": 25,
     "metadata": {},
     "output_type": "execute_result"
    },
    {
     "data": {
      "image/png": "[encoded data removed]",
      "text/plain": [
       "<Figure size 432x288 with 1 Axes>"
      ]
     },
     "metadata": {
      "needs_background": "light"
     },
     "output_type": "display_data"
    }
   ],
   "source": [
    "#PCA\n",
    "def explained(scale):\n",
    "    stages = [(\"cat\", make_column_transformer((OneHotEncoder(), ['Gender', 'family_history_with_overweight','FAVC', 'CAEC', 'SMOKE', 'SCC', 'CALC', 'MTRANS']), remainder = \"passthrough\")),\n",
    "              (\"imp\", SimpleImputer(strategy=\"most_frequent\"))]\n",
    "    if scale:\n",
    "        stages.append((\"std\", StandardScaler()))\n",
    "    stages.append((\"pca\", PCA()))\n",
    "    p = Pipeline(stages)\n",
    "    p.fit(df[xcols])\n",
    "    explained = p[\"pca\"].explained_variance_\n",
    "    s = pd.Series(explained.cumsum() / explained.sum(),\n",
    "                  index=range(1, len(p.named_steps['cat'].get_feature_names())+1))\n",
    "    print(s)\n",
    "    return s\n",
    "\n",
    "ax = explained(False).plot.line(label=\"not scaled\", ylim=0)\n",
    "explained(True).plot.line(label=\"scaled\", ax=ax)\n",
    "ax.set_xlabel(\"Number of Components\")\n",
    "ax.set_ylabel(\"Explained Variance\")\n",
    "ax.spines[\"top\"].set_visible(False)\n",
    "ax.spines[\"right\"].set_visible(False)\n",
    "ax.legend(frameon=False, bbox_to_anchor=(1, 0), loc='lower right', ncol=1)\n",
    "ax.set_title(\"Figure 2: Principal Components of Obesity\", pad=20)\n"
   ]
  },
  {
   "cell_type": "code",
   "execution_count": 12,
   "metadata": {},
   "outputs": [
    {
     "data": {
      "text/plain": [
       "0.4604452865940313"
      ]
     },
     "execution_count": 12,
     "metadata": {},
     "output_type": "execute_result"
    }
   ],
   "source": [
    "len(data2[data2[\"obesity\"]==True])/len(data2)"
   ]
  },
  {
   "cell_type": "code",
   "execution_count": 13,
   "metadata": {},
   "outputs": [
    {
     "data": {
      "text/plain": [
       "False    1139\n",
       "True      972\n",
       "Name: obesity, dtype: int64"
      ]
     },
     "execution_count": 13,
     "metadata": {},
     "output_type": "execute_result"
    }
   ],
   "source": [
    "df[\"obesity\"] = df['NObeyesdad'].map({'Obesity_Type_I': True, 'Obesity_Type_II': True, 'Obesity_Type_III': True, \"Insufficient_Weight\": False, \"Normal_Weight\": False, \"Overweight_Level_I\": False, \"Overweight_Level_II\": False})\n",
    "df[\"obesity\"].value_counts()"
   ]
  },
  {
   "cell_type": "code",
   "execution_count": 14,
   "metadata": {},
   "outputs": [
    {
     "data": {
      "text/plain": [
       "((1583, 18), (528, 18))"
      ]
     },
     "execution_count": 14,
     "metadata": {},
     "output_type": "execute_result"
    }
   ],
   "source": [
    "# Logistic Regression\n",
    "train, test = train_test_split(df, random_state=0)\n",
    "train.shape, test.shape"
   ]
  },
  {
   "cell_type": "code",
   "execution_count": 34,
   "metadata": {},
   "outputs": [
    {
     "name": "stdout",
     "output_type": "stream",
     "text": [
      "Score 0.7803030303030303\n",
      "Recall 0.8744939271255061\n",
      "Precision 0.717607973421927\n",
      "[[37.12121212 16.09848485]\n",
      " [ 5.87121212 40.90909091]]\n"
     ]
    }
   ],
   "source": [
    "p = Pipeline([\n",
    "    (\"cat\", make_column_transformer((OneHotEncoder(), ['Gender', 'family_history_with_overweight','FAVC', 'CAEC', 'SMOKE', 'SCC', 'CALC', 'MTRANS']), remainder = \"passthrough\")),\n",
    "    (\"std\", StandardScaler()),\n",
    "    (\"lr\", LogisticRegression())])\n",
    "p.fit(train[xcols], train[ycol])\n",
    "print(\"Score\", p.score(test[xcols], test[ycol]))\n",
    "print(\"Recall\", recall_score(test[ycol], p.predict(test[xcols])))\n",
    "print(\"Precision\", precision_score(test[ycol], p.predict(test[xcols])))\n",
    "print(confusion_matrix(test[ycol], p.predict(test[xcols])) / len(test) * 100)"
   ]
  },
  {
   "cell_type": "code",
   "execution_count": 30,
   "metadata": {},
   "outputs": [],
   "source": [
    "cols = p.named_steps['cat'].get_feature_names()\n",
    "cols = [t.replace(\"onehotencoder__\", \"\") for t in cols]\n",
    "cols = [t.replace(\"x0_\", \"\") for t in cols]\n",
    "cols = [t.replace(\"x1\", \"family history with overweight\") for t in cols]\n",
    "cols = [t.replace(\"x2\", \"FAVC\") for t in cols]\n",
    "cols = [t.replace(\"x3\", 'CAEC') for t in cols]\n",
    "cols = [t.replace(\"x4\", 'SMOKE') for t in cols]\n",
    "cols = [t.replace(\"x5\", 'SCC') for t in cols]\n",
    "cols = [t.replace(\"x6\", 'CALC') for t in cols]\n",
    "cols = [t.replace(\"x7\", 'MTRANS') for t in cols]\n",
    "c = pd.DataFrame(p[\"lr\"].coef_[0], index = cols)\n",
    "c.columns = [\"values\"]\n",
    "data3 = c.sort_values(by = \"values\", key = abs, ascending = False)\n",
    "data3 = data3.drop([\"family history with overweight_no\", \"FAVC_no\", \"SCC_no\", \"SMOKE_no\", \"Male\"], 0)[:10]"
   ]
  },
  {
   "cell_type": "code",
   "execution_count": 31,
   "metadata": {},
   "outputs": [
    {
     "data": {
      "text/html": [
       "<div>\n",
       "<style scoped>\n",
       "    .dataframe tbody tr th:only-of-type {\n",
       "        vertical-align: middle;\n",
       "    }\n",
       "\n",
       "    .dataframe tbody tr th {\n",
       "        vertical-align: top;\n",
       "    }\n",
       "\n",
       "    .dataframe thead th {\n",
       "        text-align: right;\n",
       "    }\n",
       "</style>\n",
       "<table border=\"1\" class=\"dataframe\">\n",
       "  <thead>\n",
       "    <tr style=\"text-align: right;\">\n",
       "      <th></th>\n",
       "      <th>values</th>\n",
       "    </tr>\n",
       "  </thead>\n",
       "  <tbody>\n",
       "    <tr>\n",
       "      <th>Age</th>\n",
       "      <td>0.564291</td>\n",
       "    </tr>\n",
       "    <tr>\n",
       "      <th>family history with overweight</th>\n",
       "      <td>0.635900</td>\n",
       "    </tr>\n",
       "    <tr>\n",
       "      <th>FAVC</th>\n",
       "      <td>0.357831</td>\n",
       "    </tr>\n",
       "    <tr>\n",
       "      <th>FCVC</th>\n",
       "      <td>0.419904</td>\n",
       "    </tr>\n",
       "    <tr>\n",
       "      <th>CAEC_Frequently</th>\n",
       "      <td>-0.680960</td>\n",
       "    </tr>\n",
       "    <tr>\n",
       "      <th>CAEC_Sometimes</th>\n",
       "      <td>0.535062</td>\n",
       "    </tr>\n",
       "    <tr>\n",
       "      <th>FAF</th>\n",
       "      <td>-0.226313</td>\n",
       "    </tr>\n",
       "    <tr>\n",
       "      <th>MTRANS_Automobile</th>\n",
       "      <td>-0.229941</td>\n",
       "    </tr>\n",
       "    <tr>\n",
       "      <th>MTRANS_Public_Transportation</th>\n",
       "      <td>0.297014</td>\n",
       "    </tr>\n",
       "    <tr>\n",
       "      <th>MTRANS_Walking</th>\n",
       "      <td>-0.235440</td>\n",
       "    </tr>\n",
       "  </tbody>\n",
       "</table>\n",
       "</div>"
      ],
      "text/plain": [
       "                                  values\n",
       "Age                             0.564291\n",
       "family history with overweight  0.635900\n",
       "FAVC                            0.357831\n",
       "FCVC                            0.419904\n",
       "CAEC_Frequently                -0.680960\n",
       "CAEC_Sometimes                  0.535062\n",
       "FAF                            -0.226313\n",
       "MTRANS_Automobile              -0.229941\n",
       "MTRANS_Public_Transportation    0.297014\n",
       "MTRANS_Walking                 -0.235440"
      ]
     },
     "execution_count": 31,
     "metadata": {},
     "output_type": "execute_result"
    }
   ],
   "source": [
    "data3 = data3.rename(index={\"family history with overweight_yes\": \"family history with overweight\", \"FAVC_yes\":\"FAVC\"})\n",
    "ordered = ['Age', 'family history with overweight', 'FAVC', 'FCVC', 'CAEC_Frequently', 'CAEC_Sometimes','FAF', 'MTRANS_Automobile','MTRANS_Public_Transportation','MTRANS_Walking']\n",
    "data3 = data3.reindex(ordered)\n",
    "data3"
   ]
  },
  {
   "cell_type": "code",
   "execution_count": 32,
   "metadata": {},
   "outputs": [
    {
     "data": {
      "image/png": "[encoded data removed]",
      "text/plain": [
       "<Figure size 432x288 with 1 Axes>"
      ]
     },
     "metadata": {
      "needs_background": "light"
     },
     "output_type": "display_data"
    }
   ],
   "source": [
    "ax = data3.plot.barh()\n",
    "ax.get_legend().remove()\n",
    "ax.set_xlabel(\"Weight\")\n",
    "ax.set_ylabel(\"Feature\")\n",
    "ax.spines[\"top\"].set_visible(False)\n",
    "ax.spines[\"right\"].set_visible(False)\n",
    "ax.set_title(\"Figure 3: Logistic Regression Coefficients\", pad=20)\n",
    "ax.title.set_position([0.2, 1.1])"
   ]
  },
  {
   "cell_type": "code",
   "execution_count": null,
   "metadata": {},
   "outputs": [],
   "source": []
  }
 ],
 "metadata": {
  "kernelspec": {
   "display_name": "Python 3",
   "language": "python",
   "name": "python3"
  },
  "language_info": {
   "codemirror_mode": {
    "name": "ipython",
    "version": 3
   },
   "file_extension": ".py",
   "mimetype": "text/x-python",
   "name": "python",
   "nbconvert_exporter": "python",
   "pygments_lexer": "ipython3",
   "version": "3.8.3"
  }
 },
 "nbformat": 4,
 "nbformat_minor": 5
}
